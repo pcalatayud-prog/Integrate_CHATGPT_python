{
 "cells": [
  {
   "cell_type": "code",
   "execution_count": 10,
   "id": "6a41a161",
   "metadata": {},
   "outputs": [],
   "source": [
    "import requests"
   ]
  },
  {
   "cell_type": "code",
   "execution_count": 11,
   "id": "d9b8613e",
   "metadata": {},
   "outputs": [],
   "source": [
    "import requests\n",
    "def chatGPT(text):\n",
    "    url = \"https://api.openai.com/v1/completions\"\n",
    "    headers = {\n",
    "    \"Content-Type\": \"application/json\",\n",
    "    \"Authorization\": \"Bearer <PUT HERE YOUR OPENAI API>\"\n",
    "    }\n",
    "    data = { \n",
    "    \"model\": \"text-davinci-003\",\n",
    "    \"prompt\": text,\n",
    "    \"max_tokens\": 4000,\n",
    "    \"temperature\": 1.0,\n",
    "    }\n",
    "    response = requests.post(url, headers=headers, json=data)\n",
    "    output = response.json()['choices'][0]['text']\n",
    "\n",
    "    return (output)"
   ]
  },
  {
   "cell_type": "code",
   "execution_count": 12,
   "id": "d1920438",
   "metadata": {},
   "outputs": [],
   "source": [
    "A = \"I want to create a repository in git-hub where I show how to use ChatGPT using the OpenAI API. Could you give me a description for this repository?\"\n"
   ]
  },
  {
   "cell_type": "code",
   "execution_count": 13,
   "id": "5f2110d1",
   "metadata": {},
   "outputs": [
    {
     "name": "stdout",
     "output_type": "stream",
     "text": [
      "I want to create a repository in git-hub where I show how to use ChatGPT using the OpenAI API. Could you give me a description for this repository?\n"
     ]
    }
   ],
   "source": [
    "print(A)"
   ]
  },
  {
   "cell_type": "code",
   "execution_count": 14,
   "id": "91f9f15d",
   "metadata": {
    "scrolled": true
   },
   "outputs": [
    {
     "name": "stdout",
     "output_type": "stream",
     "text": [
      "\n",
      "\n",
      "This repository provides an example of using ChatGPT with the OpenAI API. It contains instructions and code examples on how to deploy ChatGPT and articulate conversations with it. It is a practical guide for anyone interested in learning how to use the OpenAI API to access ChatGPT's powerful natural language processing capabilities.\n"
     ]
    }
   ],
   "source": [
    "c = chatGPT(\"Could you provide information about the description in a impersonal and professional way?\" + A)\n",
    "print(c)"
   ]
  },
  {
   "cell_type": "code",
   "execution_count": null,
   "id": "55bb24dd",
   "metadata": {},
   "outputs": [],
   "source": []
  }
 ],
 "metadata": {
  "kernelspec": {
   "display_name": "Python 3 (ipykernel)",
   "language": "python",
   "name": "python3"
  },
  "language_info": {
   "codemirror_mode": {
    "name": "ipython",
    "version": 3
   },
   "file_extension": ".py",
   "mimetype": "text/x-python",
   "name": "python",
   "nbconvert_exporter": "python",
   "pygments_lexer": "ipython3",
   "version": "3.9.7"
  }
 },
 "nbformat": 4,
 "nbformat_minor": 5
}
